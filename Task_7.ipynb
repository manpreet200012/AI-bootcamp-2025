{
  "nbformat": 4,
  "nbformat_minor": 0,
  "metadata": {
    "colab": {
      "provenance": []
    },
    "kernelspec": {
      "name": "python3",
      "display_name": "Python 3"
    },
    "language_info": {
      "name": "python"
    }
  },
  "cells": [
    {
      "cell_type": "code",
      "execution_count": 2,
      "metadata": {
        "colab": {
          "base_uri": "https://localhost:8080/"
        },
        "id": "2r7nqJ6LTgMT",
        "outputId": "805ad5a5-e841-451a-e7ba-1f40f316e32f"
      },
      "outputs": [
        {
          "output_type": "stream",
          "name": "stdout",
          "text": [
            "Precision: 0.8115942028985508\n",
            "Recall: 0.7567567567567568\n",
            "F1 Score: 0.7832167832167832\n"
          ]
        }
      ],
      "source": [
        "# Task 7: Titanic Survival Prediction using Random Forest\n",
        "\n",
        "# Step 1: Import Libraries\n",
        "import pandas as pd\n",
        "import numpy as np\n",
        "from sklearn.ensemble import RandomForestClassifier\n",
        "from sklearn.model_selection import train_test_split\n",
        "from sklearn.metrics import classification_report, precision_score, recall_score, f1_score\n",
        "\n",
        "# Step 2: Load Titanic Dataset (Make sure train.csv is in your working directory)\n",
        "data = pd.read_csv(\"train.csv\")\n",
        "\n",
        "# Step 3: Data Preprocessing\n",
        "# Drop unnecessary columns\n",
        "data = data.drop(['Name', 'Ticket', 'Cabin', 'PassengerId'], axis=1)\n",
        "\n",
        "# Fill missing values\n",
        "data['Age'] = data['Age'].fillna(data['Age'].median())\n",
        "data['Embarked'] = data['Embarked'].fillna(data['Embarked'].mode()[0])\n",
        "\n",
        "# Convert categorical to numeric\n",
        "data['Sex'] = data['Sex'].map({'male': 0, 'female': 1})\n",
        "data['Embarked'] = data['Embarked'].map({'S': 0, 'C': 1, 'Q': 2})\n",
        "\n",
        "# Define features and target\n",
        "X = data.drop(\"Survived\", axis=1)\n",
        "y = data[\"Survived\"]\n",
        "\n",
        "# Step 4: Train-Test Split\n",
        "X_train, X_test, y_train, y_test = train_test_split(X, y, test_size=0.2, random_state=42)\n",
        "\n",
        "# Step 5: Train Random Forest Model\n",
        "model = RandomForestClassifier(n_estimators=100, random_state=42)\n",
        "model.fit(X_train, y_train)\n",
        "\n",
        "# Step 6: Predictions\n",
        "y_pred = model.predict(X_test)\n",
        "\n",
        "# Step 7: Evaluation Metrics\n",
        "precision = precision_score(y_test, y_pred)\n",
        "recall = recall_score(y_test, y_pred)\n",
        "f1 = f1_score(y_test, y_pred)\n",
        "\n",
        "print(\"Precision:\", precision)\n",
        "print(\"Recall:\", recall)\n",
        "print(\"F1 Score:\", f1)\n",
        "\n",
        "\n"
      ]
    }
  ]
}