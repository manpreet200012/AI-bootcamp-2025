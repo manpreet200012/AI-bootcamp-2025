{
  "nbformat": 4,
  "nbformat_minor": 0,
  "metadata": {
    "colab": {
      "provenance": []
    },
    "kernelspec": {
      "name": "python3",
      "display_name": "Python 3"
    },
    "language_info": {
      "name": "python"
    }
  },
  "cells": [
    {
      "cell_type": "code",
      "execution_count": 1,
      "metadata": {
        "colab": {
          "base_uri": "https://localhost:8080/"
        },
        "id": "_kMZ-m-3cvHj",
        "outputId": "bdc8f1bd-cedc-4f77-b155-b0e853b3097d"
      },
      "outputs": [
        {
          "output_type": "stream",
          "name": "stdout",
          "text": [
            "Hello World!\n"
          ]
        }
      ],
      "source": [
        "print(\"Hello World!\")# print hello world"
      ]
    },
    {
      "cell_type": "code",
      "source": [
        "age=30 # variable that store the value\n",
        "name=\"manpreet\" # variable that store the text\n",
        "print(age) #print statement that print age\n",
        "print(age,name) #print statement that print age and name in the same line"
      ],
      "metadata": {
        "colab": {
          "base_uri": "https://localhost:8080/"
        },
        "id": "K3Qv8a79i_y2",
        "outputId": "abad9a72-e121-403c-8bbd-b0b7fa30844b"
      },
      "execution_count": 6,
      "outputs": [
        {
          "output_type": "stream",
          "name": "stdout",
          "text": [
            "30\n",
            "30 manpreet\n"
          ]
        }
      ]
    },
    {
      "cell_type": "code",
      "source": [
        "print(\"Hey there!\")"
      ],
      "metadata": {
        "colab": {
          "base_uri": "https://localhost:8080/"
        },
        "id": "t1jFobj1eBUC",
        "outputId": "79dc66bd-682c-4979-e736-8eea1397755e"
      },
      "execution_count": 2,
      "outputs": [
        {
          "output_type": "stream",
          "name": "stdout",
          "text": [
            "Hey there!\n"
          ]
        }
      ]
    }
  ]
}