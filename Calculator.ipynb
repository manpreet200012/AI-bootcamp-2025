{
  "nbformat": 4,
  "nbformat_minor": 0,
  "metadata": {
    "colab": {
      "provenance": []
    },
    "kernelspec": {
      "name": "python3",
      "display_name": "Python 3"
    },
    "language_info": {
      "name": "python"
    }
  },
  "cells": [
    {
      "cell_type": "code",
      "execution_count": 1,
      "metadata": {
        "colab": {
          "base_uri": "https://localhost:8080/"
        },
        "id": "_wmFNV9nRRmj",
        "outputId": "b18cf5be-acec-4091-d3d0-d0c3fcd16302"
      },
      "outputs": [
        {
          "output_type": "stream",
          "name": "stdout",
          "text": [
            "Enter first number: 5\n",
            "Enter second number: 15\n",
            "Choose operation: +, -, *, /\n",
            "*\n",
            "Result: 75.0\n"
          ]
        }
      ],
      "source": [
        "# Calculator\n",
        "num1 = float(input(\"Enter first number: \"))\n",
        "num2 = float(input(\"Enter second number: \"))\n",
        "\n",
        "print(\"Choose operation: +, -, *, /\")\n",
        "op = input()\n",
        "\n",
        "if op == '+':\n",
        "    res = num1 + num2\n",
        "elif op == '-':\n",
        "    res = num1 - num2\n",
        "elif op == '*':\n",
        "    res = num1 * num2\n",
        "elif op == '/':\n",
        "    if num2 != 0:\n",
        "        res = num1 / num2\n",
        "    else:\n",
        "        res = \"Cannot divide by 0!\"\n",
        "else:\n",
        "    res = \"Invalid operation!\"\n",
        "\n",
        "print(\"Result:\", res)\n"
      ]
    }
  ]
}